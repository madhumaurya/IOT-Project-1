{
 "cells": [
  {
   "cell_type": "code",
   "execution_count": 1,
   "metadata": {},
   "outputs": [],
   "source": [
    "import pandas as pd\n",
    "#To deal with yahoo or any financial API\n",
    "pd.core.common.is_list_like =pd.api.types.is_list_like\n",
    "from pandas_datareader import data"
   ]
  },
  {
   "cell_type": "code",
   "execution_count": 2,
   "metadata": {},
   "outputs": [],
   "source": [
    "import fix_yahoo_finance as yf\n",
    "yf.pdr_override()"
   ]
  },
  {
   "cell_type": "code",
   "execution_count": 5,
   "metadata": {},
   "outputs": [
    {
     "name": "stdout",
     "output_type": "stream",
     "text": [
      "               open     high      low    close    volume\n",
      "date                                                    \n",
      "2015-01-02  51.7873  52.1017  51.2443  51.6920  11139757\n",
      "2015-01-05  51.3586  51.4062  49.8534  50.0630  20945436\n",
      "2015-01-06  50.1868  50.2726  48.1386  48.3005  31989329\n",
      "2015-01-07  49.0722  49.1103  48.2195  48.7483  27890770\n",
      "2015-01-08  49.3199  49.6152  49.0627  49.4818  17470338\n",
      "2015-01-09  49.7010  49.7676  48.3672  48.3767  20180176\n",
      "2015-01-12  48.4148  48.5006  47.6622  47.9957  22725831\n",
      "2015-01-13  48.2624  48.8054  47.2621  47.6527  23201793\n",
      "2015-01-14  46.6429  46.7762  45.5092  46.7286  44630812\n",
      "2015-01-15  45.7855  45.9569  44.6899  44.9947  48799351\n",
      "2015-01-16  44.4898  45.4330  44.3946  45.3568  32306956\n",
      "2015-01-20  45.7093  45.7283  44.9185  45.0233  25569191\n",
      "2015-01-21  45.1281  45.9474  44.9185  45.4806  22873308\n",
      "2015-01-22  45.9760  47.3955  45.6616  47.2240  29652588\n",
      "2015-01-23  47.1478  47.4050  46.3047  46.3190  18984656\n",
      "2015-01-26  46.1856  46.7096  46.1189  46.5762  13817464\n",
      "2015-01-27  45.7664  46.3475  45.5092  46.0236  16401197\n",
      "2015-01-28  46.0808  46.2142  44.8804  44.8804  26065266\n",
      "2015-01-29  44.8518  45.5284  44.6184  45.3759  19865726\n",
      "2015-01-30  44.8709  45.4807  44.6898  44.7375  23729785\n",
      "2015-02-02  44.9757  45.5188  44.6898  45.4712  19178244\n",
      "2015-02-03  46.1763  46.9005  46.0715  46.5765  25221080\n",
      "2015-02-04  46.2811  46.6909  46.0239  46.1192  19581789\n",
      "2015-02-05  46.4431  46.6909  45.9476  46.2526  15481918\n",
      "2015-02-06  47.0720  47.5961  46.7481  46.8243  25881521\n",
      "2015-02-09  46.5575  47.1768  46.1573  46.8910  16364922\n",
      "2015-02-10  47.6438  47.7009  46.8243  47.0625  17223700\n",
      "2015-02-11  46.8338  47.5294  46.7957  47.3388  13079476\n",
      "2015-02-12  47.5866  48.6824  47.4246  48.4918  28926844\n",
      "2015-02-13  48.6062  49.0588  48.4156  48.7872  17448490\n",
      "...             ...      ...      ...      ...       ...\n",
      "2017-11-16  70.5471  70.7524  69.9601  70.1166  12415631\n",
      "2017-11-17  69.6177  70.2731  69.4024  69.7840  11812986\n",
      "2017-11-20  70.2144  70.7330  69.7351  70.4884  10000030\n",
      "2017-11-21  70.9286  71.0167  70.5666  70.8112   9632060\n",
      "2017-11-22  70.8797  71.5645  70.6938  70.6938   9146179\n",
      "2017-11-24  70.8406  70.9482  70.4297  70.4590   4676099\n",
      "2017-11-27  70.4297  70.7917  69.7595  69.8427  12615197\n",
      "2017-11-28  69.8916  72.3961  69.5883  72.1026  18048317\n",
      "2017-11-29  72.8070  74.1278  72.4450  73.4136  21876367\n",
      "2017-11-30  74.0886  75.2228  73.5211  73.8636  23179633\n",
      "2017-12-01  74.0691  74.5876  72.1809  73.8734  18269756\n",
      "2017-12-04  75.3507  76.2311  74.9593  75.4289  23151442\n",
      "2017-12-05  75.3115  75.6050  74.5386  74.8811  16045934\n",
      "2017-12-06  74.5876  74.8419  73.4625  73.8049  16612465\n",
      "2017-12-07  72.7385  73.6875  72.6505  73.3549  19173389\n",
      "2017-12-08  73.6875  74.0788  73.3402  74.0691  12460938\n",
      "2017-12-11  73.9125  74.4799  73.8930  74.2060  10461659\n",
      "2017-12-12  74.3919  75.1354  73.8875  74.4995  18381856\n",
      "2017-12-13  74.3038  74.6609  73.4234  73.5114  20231575\n",
      "2017-12-14  73.6190  73.7956  72.1809  72.3178  24778469\n",
      "2017-12-15  72.8853  73.5212  72.6603  73.1494  37121111\n",
      "2017-12-18  73.7560  74.3577  73.6386  74.0299  16449299\n",
      "2017-12-19  74.2941  74.4995  73.0320  73.0809  17655055\n",
      "2017-12-20  73.7364  74.1229  72.9929  73.0418  17643967\n",
      "2017-12-21  73.3549  74.4310  73.3157  74.1767  14085694\n",
      "2017-12-22  74.2256  74.3430  73.4234  73.8538  12006574\n",
      "2017-12-26  73.8147  74.0788  72.8021  73.1592  10882080\n",
      "2017-12-27  73.0516  73.4527  72.9048  73.2668  10845092\n",
      "2017-12-28  73.2864  73.5408  73.2179  73.4527   8759802\n",
      "2017-12-29  73.5408  73.6582  72.7679  72.7972  10074857\n",
      "\n",
      "[755 rows x 5 columns]\n"
     ]
    },
    {
     "data": {
      "text/html": [
       "<div>\n",
       "<style scoped>\n",
       "    .dataframe tbody tr th:only-of-type {\n",
       "        vertical-align: middle;\n",
       "    }\n",
       "\n",
       "    .dataframe tbody tr th {\n",
       "        vertical-align: top;\n",
       "    }\n",
       "\n",
       "    .dataframe thead th {\n",
       "        text-align: right;\n",
       "    }\n",
       "</style>\n",
       "<table border=\"1\" class=\"dataframe\">\n",
       "  <thead>\n",
       "    <tr style=\"text-align: right;\">\n",
       "      <th></th>\n",
       "      <th>open</th>\n",
       "      <th>high</th>\n",
       "      <th>low</th>\n",
       "      <th>close</th>\n",
       "      <th>volume</th>\n",
       "    </tr>\n",
       "    <tr>\n",
       "      <th>date</th>\n",
       "      <th></th>\n",
       "      <th></th>\n",
       "      <th></th>\n",
       "      <th></th>\n",
       "      <th></th>\n",
       "    </tr>\n",
       "  </thead>\n",
       "  <tbody>\n",
       "    <tr>\n",
       "      <th>2015-01-02</th>\n",
       "      <td>51.7873</td>\n",
       "      <td>52.1017</td>\n",
       "      <td>51.2443</td>\n",
       "      <td>51.6920</td>\n",
       "      <td>11139757</td>\n",
       "    </tr>\n",
       "    <tr>\n",
       "      <th>2015-01-05</th>\n",
       "      <td>51.3586</td>\n",
       "      <td>51.4062</td>\n",
       "      <td>49.8534</td>\n",
       "      <td>50.0630</td>\n",
       "      <td>20945436</td>\n",
       "    </tr>\n",
       "    <tr>\n",
       "      <th>2015-01-06</th>\n",
       "      <td>50.1868</td>\n",
       "      <td>50.2726</td>\n",
       "      <td>48.1386</td>\n",
       "      <td>48.3005</td>\n",
       "      <td>31989329</td>\n",
       "    </tr>\n",
       "    <tr>\n",
       "      <th>2015-01-07</th>\n",
       "      <td>49.0722</td>\n",
       "      <td>49.1103</td>\n",
       "      <td>48.2195</td>\n",
       "      <td>48.7483</td>\n",
       "      <td>27890770</td>\n",
       "    </tr>\n",
       "    <tr>\n",
       "      <th>2015-01-08</th>\n",
       "      <td>49.3199</td>\n",
       "      <td>49.6152</td>\n",
       "      <td>49.0627</td>\n",
       "      <td>49.4818</td>\n",
       "      <td>17470338</td>\n",
       "    </tr>\n",
       "  </tbody>\n",
       "</table>\n",
       "</div>"
      ],
      "text/plain": [
       "               open     high      low    close    volume\n",
       "date                                                    \n",
       "2015-01-02  51.7873  52.1017  51.2443  51.6920  11139757\n",
       "2015-01-05  51.3586  51.4062  49.8534  50.0630  20945436\n",
       "2015-01-06  50.1868  50.2726  48.1386  48.3005  31989329\n",
       "2015-01-07  49.0722  49.1103  48.2195  48.7483  27890770\n",
       "2015-01-08  49.3199  49.6152  49.0627  49.4818  17470338"
      ]
     },
     "execution_count": 5,
     "metadata": {},
     "output_type": "execute_result"
    }
   ],
   "source": [
    "symbol= 'C' \n",
    "data_source = 'yahoo' \n",
    "start_date = '2015-01-01'\n",
    "end_date = '2018-01-01'\n",
    "\n",
    "df= data.DataReader(\"C\", \"iex\", start_date, end_date)\n",
    "\n",
    "print(df)\n",
    "df.head()"
   ]
  },
  {
   "cell_type": "code",
   "execution_count": 6,
   "metadata": {},
   "outputs": [],
   "source": [
    "df.to_csv('C:/Users/lenovo/IOT Analytics/CITI_BANK.csv')"
   ]
  },
  {
   "cell_type": "code",
   "execution_count": 19,
   "metadata": {},
   "outputs": [
    {
     "data": {
      "text/plain": [
       "Index(['2015-01-02', '2015-01-05', '2015-01-06', '2015-01-07', '2015-01-08',\n",
       "       '2015-01-09', '2015-01-12', '2015-01-13', '2015-01-14', '2015-01-15',\n",
       "       ...\n",
       "       '2017-12-15', '2017-12-18', '2017-12-19', '2017-12-20', '2017-12-21',\n",
       "       '2017-12-22', '2017-12-26', '2017-12-27', '2017-12-28', '2017-12-29'],\n",
       "      dtype='object', name='date', length=755)"
      ]
     },
     "execution_count": 19,
     "metadata": {},
     "output_type": "execute_result"
    }
   ],
   "source": [
    "df.index"
   ]
  },
  {
   "cell_type": "code",
   "execution_count": 20,
   "metadata": {},
   "outputs": [
    {
     "data": {
      "text/plain": [
       "date\n",
       "2017-12-15    72.071967\n",
       "2017-12-18    72.132008\n",
       "2017-12-19    72.168323\n",
       "2017-12-20    72.186370\n",
       "2017-12-21    72.247890\n",
       "2017-12-22    72.297198\n",
       "2017-12-26    72.327190\n",
       "2017-12-27    72.362065\n",
       "2017-12-28    72.408407\n",
       "2017-12-29    72.425455\n",
       "Name: close, dtype: float64"
      ]
     },
     "execution_count": 20,
     "metadata": {},
     "output_type": "execute_result"
    }
   ],
   "source": [
    "#calculatre moving average\n",
    "\n",
    "close_px = df['close']\n",
    "mvg = close_px.rolling(40).mean()\n",
    "mvg[-10:]\n",
    "           "
   ]
  },
  {
   "cell_type": "code",
   "execution_count": 21,
   "metadata": {},
   "outputs": [
    {
     "data": {
      "text/plain": [
       "date\n",
       "2015-01-02    0.032539\n",
       "2015-01-05    0.036490\n",
       "2015-01-06   -0.009186\n",
       "2015-01-07   -0.014824\n",
       "2015-01-08    0.022844\n",
       "Name: close, dtype: float64"
      ]
     },
     "execution_count": 21,
     "metadata": {},
     "output_type": "execute_result"
    }
   ],
   "source": [
    "rturn = close_px / close_px.shift(-1) - 1\n",
    "rturn.head()"
   ]
  },
  {
   "cell_type": "code",
   "execution_count": 23,
   "metadata": {},
   "outputs": [
    {
     "data": {
      "image/png": "[encoded data removed]",
      "text/plain": [
       "<Figure size 432x288 with 1 Axes>"
      ]
     },
     "metadata": {
      "needs_background": "light"
     },
     "output_type": "display_data"
    }
   ],
   "source": [
    "import matplotlib.pyplot as plt\n",
    "import matplotlib as mpl\n",
    "close_px.plot(label = 'Citi bank')\n",
    "mvg.plot(label= 'moving average')\n",
    "plt.legend()\n",
    "plt.show()"
   ]
  },
  {
   "cell_type": "code",
   "execution_count": null,
   "metadata": {},
   "outputs": [],
   "source": []
  }
 ],
 "metadata": {
  "kernelspec": {
   "display_name": "Python 3",
   "language": "python",
   "name": "python3"
  },
  "language_info": {
   "codemirror_mode": {
    "name": "ipython",
    "version": 3
   },
   "file_extension": ".py",
   "mimetype": "text/x-python",
   "name": "python",
   "nbconvert_exporter": "python",
   "pygments_lexer": "ipython3",
   "version": "3.7.0"
  }
 },
 "nbformat": 4,
 "nbformat_minor": 2
}
